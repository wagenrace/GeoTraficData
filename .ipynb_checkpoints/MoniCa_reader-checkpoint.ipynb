{
 "cells": [
  {
   "cell_type": "code",
   "execution_count": 1,
   "metadata": {
    "collapsed": true
   },
   "outputs": [],
   "source": [
    "import gzip"
   ]
  },
  {
   "cell_type": "markdown",
   "metadata": {},
   "source": [
    "Opening the gz files of moniCa. Given month, day, hours and minutes"
   ]
  },
  {
   "cell_type": "code",
   "execution_count": 32,
   "metadata": {
    "collapsed": false
   },
   "outputs": [],
   "source": [
    "month = 11\n",
    "if month <= 9:\n",
    "    monthS = \"0\" + str(month)\n",
    "else:\n",
    "    monthS = str(month)\n",
    "\n",
    "day = 5\n",
    "if day <= 9:\n",
    "    dayS = \"0\" + str(day)\n",
    "else:\n",
    "    dayS = str(day)\n",
    "\n",
    "minutes = 0\n",
    "if minutes <= 9:\n",
    "    minutesS = \"0\" + str(minutes)\n",
    "else:\n",
    "    minutesS = str(minutes)\n",
    "    \n",
    "hours = 0\n",
    "if hours <= 9:\n",
    "    hoursS = \"0\" + str(hours)\n",
    "else:\n",
    "    hoursS = str(hours)\n",
    "\n",
    "location = \"\\\\\\\\winstorage\\\\users\\\\bspeckma\\\\TrafficData\\\\MoniCa\"+\"\\\\\" + monthS+\"\\\\\"+ dayS+\"\\\\15\"+monthS+dayS+hoursS+minutesS+\".01G.gz\""
   ]
  },
  {
   "cell_type": "markdown",
   "metadata": {},
   "source": [
    "MoniCa file: 11050000\n",
    "Contains: 12775 line of data\n",
    "Last line: [SIV] 1446681600 05-11-15 01:00 j 60 60 60 132 0 0 255 1 1 G"
   ]
  },
  {
   "cell_type": "code",
   "execution_count": 33,
   "metadata": {
    "collapsed": false
   },
   "outputs": [
    {
     "name": "stdout",
     "output_type": "stream",
     "text": [
      "478932\n"
     ]
    }
   ],
   "source": [
    "f=gzip.open(location,'rb')\n",
    "file_content=f.read()\n",
    "allLines=str(file_content).split(\"\\\\n\")"
   ]
  },
  {
   "cell_type": "code",
   "execution_count": 46,
   "metadata": {
    "collapsed": false
   },
   "outputs": [
    {
     "data": {
      "text/plain": [
       "'[SIV] 1446681600 05-11-15 01:00 j 60 60 60 132 0 0 255 1 1 G'"
      ]
     },
     "execution_count": 46,
     "metadata": {},
     "output_type": "execute_result"
    }
   ],
   "source": [
    "allLines[-2]"
   ]
  }
 ],
 "metadata": {
  "kernelspec": {
   "display_name": "Python 3",
   "language": "python",
   "name": "python3"
  },
  "language_info": {
   "codemirror_mode": {
    "name": "ipython",
    "version": 3
   },
   "file_extension": ".py",
   "mimetype": "text/x-python",
   "name": "python",
   "nbconvert_exporter": "python",
   "pygments_lexer": "ipython3",
   "version": "3.5.1"
  }
 },
 "nbformat": 4,
 "nbformat_minor": 0
}
